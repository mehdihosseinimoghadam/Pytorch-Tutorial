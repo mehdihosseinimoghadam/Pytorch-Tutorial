{
  "nbformat": 4,
  "nbformat_minor": 0,
  "metadata": {
    "colab": {
      "name": "Tensor Basics.ipynb",
      "provenance": [],
      "authorship_tag": "ABX9TyNH/P8smt3f252IjMKe5nCD",
      "include_colab_link": true
    },
    "kernelspec": {
      "name": "python3",
      "display_name": "Python 3"
    },
    "language_info": {
      "name": "python"
    }
  },
  "cells": [
    {
      "cell_type": "markdown",
      "metadata": {
        "id": "view-in-github",
        "colab_type": "text"
      },
      "source": [
        "<a href=\"https://colab.research.google.com/github/mehdihosseinimoghadam/Pytorch-Tutorial/blob/main/Tensor_Basics.ipynb\" target=\"_parent\"><img src=\"https://colab.research.google.com/assets/colab-badge.svg\" alt=\"Open In Colab\"/></a>"
      ]
    },
    {
      "cell_type": "markdown",
      "source": [
        ""
      ],
      "metadata": {
        "id": "kzKrFec9AOB5"
      }
    },
    {
      "cell_type": "code",
      "source": [
        "import torch\n",
        "import numpy as np"
      ],
      "metadata": {
        "id": "TxK50ly6EFlc"
      },
      "execution_count": 16,
      "outputs": []
    },
    {
      "cell_type": "code",
      "execution_count": 3,
      "metadata": {
        "colab": {
          "base_uri": "https://localhost:8080/"
        },
        "id": "N5sS5idJAA6u",
        "outputId": "9c56ca43-4ad9-4ee8-a7c7-81fe52479074"
      },
      "outputs": [
        {
          "output_type": "stream",
          "name": "stdout",
          "text": [
            "tensor([-4.5370e+09])\n",
            "tensor([[-4.5370e+09,  3.0649e-41],\n",
            "        [ 4.4842e-44,  0.0000e+00]])\n",
            "tensor([[[-4.5370e+09,  3.0649e-41],\n",
            "         [ 0.0000e+00,  1.5898e-05]],\n",
            "\n",
            "        [[ 0.0000e+00,  0.0000e+00],\n",
            "         [ 0.0000e+00,  0.0000e+00]]])\n"
          ]
        }
      ],
      "source": [
        "a1 = torch.empty(1) d     # One Dimentional Tensor   \n",
        "a2 = torch.empty(2,2)     # Two Dimentional Tensor\n",
        "a3 = torch.empty(2,2,2)   # Three Dimentional Tensor\n",
        "print(a1)\n",
        "print(a2)\n",
        "print(a3)"
      ]
    },
    {
      "cell_type": "code",
      "source": [
        "a = torch.zeros(2,2)\n",
        "b = torch.ones(2,2)\n",
        "c = torch.rand(2,2)\n",
        "\n",
        "print(a)\n",
        "print(b)\n",
        "print(c)"
      ],
      "metadata": {
        "colab": {
          "base_uri": "https://localhost:8080/"
        },
        "id": "f57bxurHAU0Q",
        "outputId": "0340a881-e0cd-4faf-acac-b5a93c4e09bb"
      },
      "execution_count": 5,
      "outputs": [
        {
          "output_type": "stream",
          "name": "stdout",
          "text": [
            "tensor([[0., 0.],\n",
            "        [0., 0.]])\n",
            "tensor([[1., 1.],\n",
            "        [1., 1.]])\n",
            "tensor([[0.3240, 0.5207],\n",
            "        [0.3225, 0.4818]])\n"
          ]
        }
      ]
    },
    {
      "cell_type": "code",
      "source": [
        "a = torch.rand(2,2)\n",
        "b = torch.rand(2, 2, dtype=torch.float32) # Changing data type\n",
        "\n",
        "print(a)\n",
        "a.add_(b) # In Place Operation\n",
        "print(a) "
      ],
      "metadata": {
        "colab": {
          "base_uri": "https://localhost:8080/"
        },
        "id": "gonz5iL1BUIu",
        "outputId": "4c23e2f8-35f7-4a59-de93-de7dfa6e6622"
      },
      "execution_count": 9,
      "outputs": [
        {
          "output_type": "stream",
          "name": "stdout",
          "text": [
            "tensor([[0.5101, 0.8474],\n",
            "        [0.1926, 0.2485]])\n",
            "tensor([[0.9874, 1.5617],\n",
            "        [1.1149, 0.2610]])\n"
          ]
        }
      ]
    },
    {
      "cell_type": "code",
      "source": [
        "a = torch.rand(2,3,4)\n",
        "b = a.view(3,8)\n",
        "c = a.view(-1,2)\n",
        "\n",
        "print(f'Size of a is {a.size()}, Size of b is {b.size()}, and Size of c is {c.size()}')"
      ],
      "metadata": {
        "colab": {
          "base_uri": "https://localhost:8080/"
        },
        "id": "OAd7yZG-Bzot",
        "outputId": "b7e6a449-4fc9-4dd3-cf57-247dbe4f1809"
      },
      "execution_count": 12,
      "outputs": [
        {
          "output_type": "stream",
          "name": "stdout",
          "text": [
            "Size of a is torch.Size([2, 3, 4]), Size of b is torch.Size([3, 8]), and Size of c is torch.Size([12, 2])\n"
          ]
        }
      ]
    },
    {
      "cell_type": "code",
      "source": [
        "a = torch.rand(2,2)\n",
        "b = a.numpy()\n",
        "\n",
        "print(type(a), type(b))"
      ],
      "metadata": {
        "colab": {
          "base_uri": "https://localhost:8080/"
        },
        "id": "xEWRMM_ODB2o",
        "outputId": "fd88bacc-afff-4b3b-b527-f1ed0668a15f"
      },
      "execution_count": 13,
      "outputs": [
        {
          "output_type": "stream",
          "name": "stdout",
          "text": [
            "<class 'torch.Tensor'> <class 'numpy.ndarray'>\n"
          ]
        }
      ]
    },
    {
      "cell_type": "code",
      "source": [
        "a = torch.ones(2)\n",
        "b = a.numpy()\n",
        "\n",
        "a.add_(2)\n",
        "\n",
        "print(a,b)"
      ],
      "metadata": {
        "colab": {
          "base_uri": "https://localhost:8080/"
        },
        "id": "dcXNKqHGDvf6",
        "outputId": "66db9432-6cf7-4f28-b5d4-6eb5c77f1683"
      },
      "execution_count": 14,
      "outputs": [
        {
          "output_type": "stream",
          "name": "stdout",
          "text": [
            "tensor([3., 3.]) [3. 3.]\n"
          ]
        }
      ]
    },
    {
      "cell_type": "code",
      "source": [
        "a = np.ones(2)\n",
        "b = torch.from_numpy(a)\n",
        "\n",
        "print(a,b)"
      ],
      "metadata": {
        "colab": {
          "base_uri": "https://localhost:8080/"
        },
        "id": "ZEkJHMaGD-fT",
        "outputId": "50fd770e-4ba5-45f2-8d6f-8ed57265e74c"
      },
      "execution_count": 17,
      "outputs": [
        {
          "output_type": "stream",
          "name": "stdout",
          "text": [
            "[1. 1.] tensor([1., 1.], dtype=torch.float64)\n"
          ]
        }
      ]
    },
    {
      "cell_type": "code",
      "source": [
        "a = 2 * torch.ones(2)\n",
        "b = 3 * torch.ones(2)\n",
        "\n",
        "c = a * b\n",
        "d = a - b\n",
        "e = a + b\n",
        "\n",
        "print(c,d,e)"
      ],
      "metadata": {
        "colab": {
          "base_uri": "https://localhost:8080/"
        },
        "id": "oT8Cc04rETyn",
        "outputId": "407d3a19-75ff-466d-9846-2151b3dbac65"
      },
      "execution_count": 20,
      "outputs": [
        {
          "output_type": "stream",
          "name": "stdout",
          "text": [
            "tensor([6., 6.]) tensor([-1., -1.]) tensor([5., 5.])\n"
          ]
        }
      ]
    },
    {
      "cell_type": "code",
      "source": [
        "if torch.cuda.is_available():\n",
        "  device = torch.device('cuda')\n",
        "  a = torch.rand(2, device=device)\n",
        "  b = torch.rand(2, device=device)\n",
        "\n",
        "\n",
        "print(a*b)"
      ],
      "metadata": {
        "colab": {
          "base_uri": "https://localhost:8080/"
        },
        "id": "Th8POu79EsoU",
        "outputId": "7266cb19-90bd-4407-a6f1-f192fce63386"
      },
      "execution_count": 24,
      "outputs": [
        {
          "output_type": "stream",
          "name": "stdout",
          "text": [
            "tensor([0.2784, 1.2305])\n",
            "tensor([12., 12.])\n"
          ]
        }
      ]
    },
    {
      "cell_type": "code",
      "source": [
        ""
      ],
      "metadata": {
        "id": "KWo53vyuGVEh"
      },
      "execution_count": null,
      "outputs": []
    }
  ]
}