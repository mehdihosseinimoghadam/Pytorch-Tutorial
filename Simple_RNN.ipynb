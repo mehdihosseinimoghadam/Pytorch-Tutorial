{
  "nbformat": 4,
  "nbformat_minor": 0,
  "metadata": {
    "colab": {
      "name": "Simple RNN.ipynb",
      "provenance": [],
      "authorship_tag": "ABX9TyP/9K1aB2t4fveyBulrgtkf",
      "include_colab_link": true
    },
    "kernelspec": {
      "name": "python3",
      "display_name": "Python 3"
    },
    "language_info": {
      "name": "python"
    },
    "accelerator": "GPU"
  },
  "cells": [
    {
      "cell_type": "markdown",
      "metadata": {
        "id": "view-in-github",
        "colab_type": "text"
      },
      "source": [
        "<a href=\"https://colab.research.google.com/github/mehdihosseinimoghadam/Pytorch-Tutorial/blob/main/Simple_RNN.ipynb\" target=\"_parent\"><img src=\"https://colab.research.google.com/assets/colab-badge.svg\" alt=\"Open In Colab\"/></a>"
      ]
    },
    {
      "cell_type": "code",
      "execution_count": 1,
      "metadata": {
        "id": "e9pP9AcuptdF"
      },
      "outputs": [],
      "source": [
        "import torch\n",
        "import torchvision\n",
        "from torch.utils.data import DataLoader\n",
        "from torch import nn\n",
        "import torchvision.transforms as transformers\n",
        "import torch.nn.functional as F\n",
        "import torchvision.datasets as datasets\n",
        "from torch import optim"
      ]
    },
    {
      "cell_type": "code",
      "source": [
        "from torch.autograd import backward\n",
        "device = torch.device(\"cuda\" if torch.cuda.is_available() else \"cpu\")\n",
        "\n",
        "\n",
        "num_classes = 10\n",
        "num_epoch = 3\n",
        "hidden_size = 256\n",
        "num_layers = 2\n",
        "input_size = 28\n",
        "sequence_length = 28\n",
        "learning_rate = .001\n",
        "batch_size = 64\n",
        "\n",
        "\n",
        "\n",
        "\n",
        "class RNN(nn.module):\n",
        "  def __init__(self, input_size, num_layers, hidden_size, num_classes): \n",
        "    super(RNN, self).__init__()\n",
        "    self.hidden_size = hidden_size\n",
        "    self.num_layers = num_layers\n",
        "    self.rnn = nn.RNN(input_size,\n",
        "                      hidden_size,\n",
        "                      num_layers,\n",
        "                      batch_first=True)\n",
        "    \n",
        "    self.fc = nn.Linear(hidden_size*sequence_length, num_classes)\n",
        "\n",
        "\n",
        "  def forward(self, x):\n",
        "    h0 = torch.zeros(self.num_layers, \n",
        "                     x.size[0], \n",
        "                     hidden_size).to(device)  \n",
        "\n",
        "    out, _ = self.rnn(x, h0)\n",
        "    out = out.reshape(out.shape[0], -1)\n",
        "\n",
        "    out = self.fc(out) \n",
        "    return out\n",
        "\n",
        "\n",
        "\n",
        "\n",
        "train_data = datasets.MNIST(\"data/\",\n",
        "                            train = True,\n",
        "                            transform = transformers.ToTensor(),\n",
        "                            download = True)                    \n",
        "\n",
        "\n",
        "test_data = datasets.MNIST(\"data/\",\n",
        "                            train = False,\n",
        "                            transform = transformers.ToTensor(),\n",
        "                            download = True)\n",
        "\n",
        "treain_loader = DataLoader(train_data,\n",
        "                          batch_size = batch_size,\n",
        "                          shuffle = True)\n",
        "\n",
        "\n",
        "test_loader = DataLoader(test_data,\n",
        "                          batch_size = batch_size,\n",
        "                          shuffle = True\n",
        "                         \n",
        "\n",
        "model = RNN(input_size,\n",
        "            num_layers,\n",
        "            hidden_size,\n",
        "            num_classes)\n",
        "\n",
        "\n",
        "criterion = nn.CrossEntropyLoss()\n",
        "optimizer = optim.Adam(model.parameters(),lr=learning_rate)\n",
        "\n",
        "\n",
        "for epoch in range(num_epochs):\n",
        "  for batch_idx , (data, targets) in enumerate(train_loader):\n",
        "    data = data.to(device)\n",
        "    targets = targets.to(device)\n",
        "\n",
        "    scores = model(data)\n",
        "\n",
        "    loss = criterion(targets, scores)\n",
        "\n",
        "    optimizer.zero_grad()\n",
        "    loss.backward()\n",
        "    optimizer.step()\n",
        "\n"
      ],
      "metadata": {
        "id": "UDRvghE7tScH"
      },
      "execution_count": null,
      "outputs": []
    }
  ]
}