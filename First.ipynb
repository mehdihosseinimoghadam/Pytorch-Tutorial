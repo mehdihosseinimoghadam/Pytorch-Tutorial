{
  "nbformat": 4,
  "nbformat_minor": 0,
  "metadata": {
    "colab": {
      "name": "First.ipynb",
      "provenance": [],
      "authorship_tag": "ABX9TyOMYDU9A2gV3UwB3TZ3KfpQ",
      "include_colab_link": true
    },
    "kernelspec": {
      "name": "python3",
      "display_name": "Python 3"
    },
    "language_info": {
      "name": "python"
    }
  },
  "cells": [
    {
      "cell_type": "markdown",
      "metadata": {
        "id": "view-in-github",
        "colab_type": "text"
      },
      "source": [
        "<a href=\"https://colab.research.google.com/github/mehdihosseinimoghadam/Pytorch-Tutorial/blob/main/First.ipynb\" target=\"_parent\"><img src=\"https://colab.research.google.com/assets/colab-badge.svg\" alt=\"Open In Colab\"/></a>"
      ]
    },
    {
      "cell_type": "code",
      "execution_count": 98,
      "metadata": {
        "id": "iVSR1_qCS1Mt"
      },
      "outputs": [],
      "source": [
        "import torch\n",
        "from torch import nn"
      ]
    },
    {
      "cell_type": "code",
      "source": [
        "\n",
        "class DoubleConv(nn.Module):\n",
        "  def __init__(self, in_channel, out_channel):\n",
        "    super(DoubleConv, self).__init__()\n",
        "    self.in_channel = in_channel\n",
        "    self.out_channel = out_channel\n",
        "\n",
        "    self.DC1 = nn.Sequential( \n",
        "        nn.Conv2d(self.in_channel,\n",
        "                  self.out_channel,\n",
        "                  3,\n",
        "                  1,\n",
        "                  1,\n",
        "                  bias=False),\n",
        "        nn.BatchNorm2d(self.out_channel),\n",
        "        nn.ReLU()\n",
        "        )      \n",
        "        \n",
        "    self.DC2 = nn.Sequential( \n",
        "        nn.Conv2d(self.in_channel,\n",
        "                  self.out_channel,\n",
        "                  5,\n",
        "                  1,\n",
        "                  2,\n",
        "                  bias=False),\n",
        "        nn.BatchNorm2d(self.out_channel),\n",
        "        nn.ReLU()\n",
        "        )  \n",
        "\n",
        "\n",
        "    self.DC3 = nn.Sequential( \n",
        "        nn.Conv2d(self.in_channel,\n",
        "                  self.out_channel,\n",
        "                  7,\n",
        "                  1,\n",
        "                  3,\n",
        "                  bias=False),\n",
        "        nn.BatchNorm2d(self.out_channel),\n",
        "        nn.ReLU()\n",
        "        )  \n",
        "  def forward(self, x):\n",
        "    return(self.DC1(x),self.DC2(x), self.DC3(x))  "
      ],
      "metadata": {
        "id": "QoCRv4kmTMTq"
      },
      "execution_count": 99,
      "outputs": []
    },
    {
      "cell_type": "code",
      "source": [
        "a = torch.rand(1,28,28).unsqueeze(0)"
      ],
      "metadata": {
        "id": "NcDCVQPwVWOz"
      },
      "execution_count": 100,
      "outputs": []
    },
    {
      "cell_type": "code",
      "source": [
        "DC = DoubleConv(1,10)"
      ],
      "metadata": {
        "id": "Rmx8eRT8VnOh"
      },
      "execution_count": 101,
      "outputs": []
    },
    {
      "cell_type": "code",
      "source": [
        "x1, x2, x3 = DC(a)\n",
        "print(x1.shape, x2.shape, x3.shape)"
      ],
      "metadata": {
        "colab": {
          "base_uri": "https://localhost:8080/"
        },
        "id": "jgAptuiyVuOU",
        "outputId": "aa2ca62a-a60d-4686-8c54-b076155ca376"
      },
      "execution_count": 102,
      "outputs": [
        {
          "output_type": "stream",
          "name": "stdout",
          "text": [
            "torch.Size([1, 10, 28, 28]) torch.Size([1, 10, 28, 28]) torch.Size([1, 10, 28, 28])\n"
          ]
        }
      ]
    },
    {
      "cell_type": "code",
      "source": [
        "class RNN(nn.Module):\n",
        "  def __init__(self, in_size, hidden_size, num_layers ):\n",
        "    super(RNN, self).__init__()\n",
        "    self.in_size = in_size\n",
        "    self.num_layers = num_layers\n",
        "    self.hidden_size = hidden_size\n",
        "\n",
        "    self.rnn = nn.GRU(self.in_size, self.hidden_size, self.num_layers, batch_first=True,)\n",
        "\n",
        "  def forward(self, x):\n",
        "    h0 = torch.zeros(self.num_layers, x.size(0), self.hidden_size)\n",
        "    x, _ = self.rnn(x, h0)\n",
        "    return x  "
      ],
      "metadata": {
        "id": "Csp5MsQBWRUs"
      },
      "execution_count": 123,
      "outputs": []
    },
    {
      "cell_type": "code",
      "source": [
        "a.shape"
      ],
      "metadata": {
        "colab": {
          "base_uri": "https://localhost:8080/"
        },
        "id": "CB9-gP6e4cjY",
        "outputId": "7a97e417-d006-4deb-e7d2-7fa7bd1b5c27"
      },
      "execution_count": 124,
      "outputs": [
        {
          "output_type": "execute_result",
          "data": {
            "text/plain": [
              "torch.Size([1, 1, 28, 28])"
            ]
          },
          "metadata": {},
          "execution_count": 124
        }
      ]
    },
    {
      "cell_type": "code",
      "source": [
        "rnn = RNN(28, 50, 2)"
      ],
      "metadata": {
        "id": "TWIv0SiT4ept"
      },
      "execution_count": 125,
      "outputs": []
    },
    {
      "cell_type": "code",
      "source": [
        "rnn(a.squeeze(1)).shape"
      ],
      "metadata": {
        "colab": {
          "base_uri": "https://localhost:8080/"
        },
        "id": "EVXA814Z4xnu",
        "outputId": "1a46ec7a-8262-4d9c-8eaf-f6a74578bb66"
      },
      "execution_count": 126,
      "outputs": [
        {
          "output_type": "execute_result",
          "data": {
            "text/plain": [
              "torch.Size([1, 28, 50])"
            ]
          },
          "metadata": {},
          "execution_count": 126
        }
      ]
    },
    {
      "cell_type": "code",
      "source": [
        "rnn = nn.GRU(10, 20, 2)\n",
        "input = torch.randn(5, 3, 10)\n",
        "h0 = torch.randn(2, 3, 20)\n",
        "output, hn = rnn(input, h0)\n",
        "print(output.shape)"
      ],
      "metadata": {
        "colab": {
          "base_uri": "https://localhost:8080/"
        },
        "id": "US1ROweR42CV",
        "outputId": "387202a9-3c99-4da1-dd48-a530cf6d29b4"
      },
      "execution_count": 127,
      "outputs": [
        {
          "output_type": "stream",
          "name": "stdout",
          "text": [
            "torch.Size([5, 3, 20])\n"
          ]
        }
      ]
    },
    {
      "cell_type": "markdown",
      "source": [
        "## My firs Arctechture"
      ],
      "metadata": {
        "id": "e2b7WkBN-5hR"
      }
    },
    {
      "cell_type": "code",
      "source": [
        "class First(nn.Module):\n",
        "  def __init__(self, in_channel, out_channel, hidden_size, num_layers, num_classes):\n",
        "    super(First, self).__init__()\n",
        "    self.in_channel = in_channel\n",
        "    self.out_channel = out_channel\n",
        "    self.num_layers = num_layers\n",
        "    self.hidden_size = hidden_size\n",
        "\n",
        "    self.DC1 = nn.Sequential( \n",
        "        nn.Conv2d(self.in_channel,\n",
        "                  self.out_channel,\n",
        "                  3,\n",
        "                  1,\n",
        "                  1,\n",
        "                  bias=False),\n",
        "        nn.BatchNorm2d(self.out_channel),\n",
        "        nn.ReLU()\n",
        "        )      \n",
        "        \n",
        "    self.DC2 = nn.Sequential( \n",
        "        nn.Conv2d(self.in_channel,\n",
        "                  self.out_channel,\n",
        "                  5,\n",
        "                  1,\n",
        "                  2,\n",
        "                  bias=False),\n",
        "        nn.BatchNorm2d(self.out_channel),\n",
        "        nn.ReLU()\n",
        "        )  \n",
        "\n",
        "\n",
        "    self.DC3 = nn.Sequential( \n",
        "        nn.Conv2d(self.in_channel,\n",
        "                  self.out_channel,\n",
        "                  7,\n",
        "                  1,\n",
        "                  3,\n",
        "                  bias=False),\n",
        "        nn.BatchNorm2d(self.out_channel),\n",
        "        nn.ReLU()\n",
        "        )  \n",
        "    self.rnn = nn.GRU(self.in_size, self.hidden_size, self.num_layers, batch_first=True)\n",
        "\n",
        "\n",
        "  def forward(self, x):\n",
        "    x = torch.cat([self.DC1(x),self.DC2(x), self.DC3(x)], axis = 1).squeeze(1)  \n",
        "\n",
        "    h0 = torch.zeros(self.num_layers, x.size(0), self.hidden_size)\n",
        "    x, _ = self.rnn(x, h0)"
      ],
      "metadata": {
        "id": "I8mvEFsO7RYz"
      },
      "execution_count": 130,
      "outputs": []
    },
    {
      "cell_type": "code",
      "source": [
        "f = First(1,10,28,50,2)"
      ],
      "metadata": {
        "colab": {
          "base_uri": "https://localhost:8080/",
          "height": 302
        },
        "id": "QoXFVDaRAgy5",
        "outputId": "9922e309-921f-4ad1-aaf2-5e27f51a593f"
      },
      "execution_count": 131,
      "outputs": [
        {
          "output_type": "error",
          "ename": "NameError",
          "evalue": "ignored",
          "traceback": [
            "\u001b[0;31m---------------------------------------------------------------------------\u001b[0m",
            "\u001b[0;31mNameError\u001b[0m                                 Traceback (most recent call last)",
            "\u001b[0;32m<ipython-input-131-36b92ffe0f53>\u001b[0m in \u001b[0;36m<module>\u001b[0;34m()\u001b[0m\n\u001b[0;32m----> 1\u001b[0;31m \u001b[0mf\u001b[0m \u001b[0;34m=\u001b[0m \u001b[0mFirst\u001b[0m\u001b[0;34m(\u001b[0m\u001b[0;36m1\u001b[0m\u001b[0;34m,\u001b[0m\u001b[0;36m10\u001b[0m\u001b[0;34m,\u001b[0m\u001b[0;36m28\u001b[0m\u001b[0;34m,\u001b[0m\u001b[0;36m50\u001b[0m\u001b[0;34m,\u001b[0m\u001b[0;36m2\u001b[0m\u001b[0;34m)\u001b[0m\u001b[0;34m\u001b[0m\u001b[0;34m\u001b[0m\u001b[0m\n\u001b[0m",
            "\u001b[0;32m<ipython-input-130-108517d83eee>\u001b[0m in \u001b[0;36m__init__\u001b[0;34m(self, in_channel, out_channel, hidden_size, num_layers, num_classes)\u001b[0m\n\u001b[1;32m      4\u001b[0m     \u001b[0mself\u001b[0m\u001b[0;34m.\u001b[0m\u001b[0min_channel\u001b[0m \u001b[0;34m=\u001b[0m \u001b[0min_channel\u001b[0m\u001b[0;34m\u001b[0m\u001b[0;34m\u001b[0m\u001b[0m\n\u001b[1;32m      5\u001b[0m     \u001b[0mself\u001b[0m\u001b[0;34m.\u001b[0m\u001b[0mout_channel\u001b[0m \u001b[0;34m=\u001b[0m \u001b[0mout_channel\u001b[0m\u001b[0;34m\u001b[0m\u001b[0;34m\u001b[0m\u001b[0m\n\u001b[0;32m----> 6\u001b[0;31m     \u001b[0mself\u001b[0m\u001b[0;34m.\u001b[0m\u001b[0min_size\u001b[0m \u001b[0;34m=\u001b[0m \u001b[0min_size\u001b[0m\u001b[0;34m\u001b[0m\u001b[0;34m\u001b[0m\u001b[0m\n\u001b[0m\u001b[1;32m      7\u001b[0m     \u001b[0mself\u001b[0m\u001b[0;34m.\u001b[0m\u001b[0mnum_layers\u001b[0m \u001b[0;34m=\u001b[0m \u001b[0mnum_layers\u001b[0m\u001b[0;34m\u001b[0m\u001b[0;34m\u001b[0m\u001b[0m\n\u001b[1;32m      8\u001b[0m     \u001b[0mself\u001b[0m\u001b[0;34m.\u001b[0m\u001b[0mhidden_size\u001b[0m \u001b[0;34m=\u001b[0m \u001b[0mhidden_size\u001b[0m\u001b[0;34m\u001b[0m\u001b[0;34m\u001b[0m\u001b[0m\n",
            "\u001b[0;31mNameError\u001b[0m: name 'in_size' is not defined"
          ]
        }
      ]
    },
    {
      "cell_type": "code",
      "source": [
        ""
      ],
      "metadata": {
        "id": "bN7xiK-RA7nY"
      },
      "execution_count": null,
      "outputs": []
    }
  ]
}