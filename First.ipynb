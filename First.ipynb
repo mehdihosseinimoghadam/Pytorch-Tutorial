{
  "nbformat": 4,
  "nbformat_minor": 0,
  "metadata": {
    "colab": {
      "name": "First.ipynb",
      "provenance": [],
      "authorship_tag": "ABX9TyOu8P9who29YCftfr4nyCfo",
      "include_colab_link": true
    },
    "kernelspec": {
      "name": "python3",
      "display_name": "Python 3"
    },
    "language_info": {
      "name": "python"
    }
  },
  "cells": [
    {
      "cell_type": "markdown",
      "metadata": {
        "id": "view-in-github",
        "colab_type": "text"
      },
      "source": [
        "<a href=\"https://colab.research.google.com/github/mehdihosseinimoghadam/Pytorch-Tutorial/blob/main/First.ipynb\" target=\"_parent\"><img src=\"https://colab.research.google.com/assets/colab-badge.svg\" alt=\"Open In Colab\"/></a>"
      ]
    },
    {
      "cell_type": "code",
      "execution_count": 2,
      "metadata": {
        "id": "iVSR1_qCS1Mt"
      },
      "outputs": [],
      "source": [
        "import torch\n",
        "from torch import nn"
      ]
    },
    {
      "cell_type": "code",
      "source": [
        "\n",
        "class DoubleConv(nn.Module):\n",
        "  def __init__(self, in_channel, out_channel):\n",
        "    super(DoubleConv, self).__init__()\n",
        "    self.in_channel = in_channel\n",
        "    self.out_channel = out_channel\n",
        "\n",
        "    self.DC1 = nn.Sequential( \n",
        "        nn.Conv2d(self.in_channel,\n",
        "                  self.out_channel,\n",
        "                  3,\n",
        "                  1,\n",
        "                  1,\n",
        "                  bias=False),\n",
        "        nn.BatchNorm2d(self.out_channel),\n",
        "        nn.ReLU()\n",
        "        )      \n",
        "        \n",
        "    self.DC2 = nn.Sequential( \n",
        "        nn.Conv2d(self.in_channel,\n",
        "                  self.out_channel,\n",
        "                  5,\n",
        "                  1,\n",
        "                  2,\n",
        "                  bias=False),\n",
        "        nn.BatchNorm2d(self.out_channel),\n",
        "        nn.ReLU()\n",
        "        )  \n",
        "\n",
        "\n",
        "    self.DC3 = nn.Sequential( \n",
        "        nn.Conv2d(self.in_channel,\n",
        "                  self.out_channel,\n",
        "                  7,\n",
        "                  1,\n",
        "                  3,\n",
        "                  bias=False),\n",
        "        nn.BatchNorm2d(self.out_channel),\n",
        "        nn.ReLU()\n",
        "        )  \n",
        "  def forward(self, x):\n",
        "    return(self.DC1(x),self.DC2(x), self.DC3(x))  "
      ],
      "metadata": {
        "id": "QoCRv4kmTMTq"
      },
      "execution_count": 8,
      "outputs": []
    },
    {
      "cell_type": "code",
      "source": [
        "a = torch.rand(1,28,38).unsqueeze(0)"
      ],
      "metadata": {
        "id": "NcDCVQPwVWOz"
      },
      "execution_count": 46,
      "outputs": []
    },
    {
      "cell_type": "code",
      "source": [
        "DC = DoubleConv(1,10)"
      ],
      "metadata": {
        "id": "Rmx8eRT8VnOh"
      },
      "execution_count": 47,
      "outputs": []
    },
    {
      "cell_type": "code",
      "source": [
        "x1, x2, x3 = DC(a)\n",
        "print(x1.shape, x2.shape, x3.shape)\n",
        "x = torch.cat([x1, x2, x3], axis = 1)\n",
        "x = x.reshape((1, -1, x.shape[2]*x.shape[3]))\n",
        "print(x.shape)\n"
      ],
      "metadata": {
        "colab": {
          "base_uri": "https://localhost:8080/"
        },
        "id": "jgAptuiyVuOU",
        "outputId": "4e1af14c-d2c1-4ed4-b908-c20e9715d8c4"
      },
      "execution_count": 48,
      "outputs": [
        {
          "output_type": "stream",
          "name": "stdout",
          "text": [
            "torch.Size([1, 10, 28, 38]) torch.Size([1, 10, 28, 38]) torch.Size([1, 10, 28, 38])\n",
            "torch.Size([1, 30, 1064])\n"
          ]
        }
      ]
    },
    {
      "cell_type": "code",
      "source": [
        "class RNN(nn.Module):\n",
        "  def __init__(self, in_size, hidden_size, num_layers ):\n",
        "    super(RNN, self).__init__()\n",
        "    self.in_size = in_size\n",
        "    self.num_layers = num_layers\n",
        "    self.hidden_size = hidden_size\n",
        "\n",
        "    self.rnn = nn.GRU(self.in_size, self.hidden_size, self.num_layers, batch_first=True,)\n",
        "\n",
        "  def forward(self, x):\n",
        "    h0 = torch.zeros(self.num_layers, x.size(0), self.hidden_size)\n",
        "    x, _ = self.rnn(x, h0)\n",
        "    return x  "
      ],
      "metadata": {
        "id": "Csp5MsQBWRUs"
      },
      "execution_count": 4,
      "outputs": []
    },
    {
      "cell_type": "code",
      "source": [
        "a.shape"
      ],
      "metadata": {
        "colab": {
          "base_uri": "https://localhost:8080/"
        },
        "id": "CB9-gP6e4cjY",
        "outputId": "d213ae91-52ee-4689-b0d4-ac456ebe1942"
      },
      "execution_count": 49,
      "outputs": [
        {
          "output_type": "execute_result",
          "data": {
            "text/plain": [
              "torch.Size([1, 1, 28, 38])"
            ]
          },
          "metadata": {},
          "execution_count": 49
        }
      ]
    },
    {
      "cell_type": "code",
      "source": [
        "rnn = RNN(38, 50, 2)"
      ],
      "metadata": {
        "id": "TWIv0SiT4ept"
      },
      "execution_count": 52,
      "outputs": []
    },
    {
      "cell_type": "code",
      "source": [
        "rnn(a.squeeze(1)).shape"
      ],
      "metadata": {
        "colab": {
          "base_uri": "https://localhost:8080/"
        },
        "id": "EVXA814Z4xnu",
        "outputId": "3f2c4483-83da-426d-909a-62ad88ffe4e2"
      },
      "execution_count": 53,
      "outputs": [
        {
          "output_type": "execute_result",
          "data": {
            "text/plain": [
              "torch.Size([1, 28, 50])"
            ]
          },
          "metadata": {},
          "execution_count": 53
        }
      ]
    },
    {
      "cell_type": "code",
      "source": [
        "rnn = nn.GRU(10, 20, 2)\n",
        "input = torch.randn(5, 3, 10)\n",
        "h0 = torch.randn(2, 3, 20)\n",
        "output, hn = rnn(input, h0)\n",
        "print(output.shape)"
      ],
      "metadata": {
        "colab": {
          "base_uri": "https://localhost:8080/"
        },
        "id": "US1ROweR42CV",
        "outputId": "387202a9-3c99-4da1-dd48-a530cf6d29b4"
      },
      "execution_count": 127,
      "outputs": [
        {
          "output_type": "stream",
          "name": "stdout",
          "text": [
            "torch.Size([5, 3, 20])\n"
          ]
        }
      ]
    },
    {
      "cell_type": "markdown",
      "source": [
        "## My firs Arctechture"
      ],
      "metadata": {
        "id": "e2b7WkBN-5hR"
      }
    },
    {
      "cell_type": "code",
      "source": [
        "class First(nn.Module):\n",
        "  def __init__(self, in_channel, out_channel, hidden_size, num_layers, num_classes):\n",
        "    super(First, self).__init__()\n",
        "    self.in_channel = in_channel\n",
        "    self.out_channel = out_channel\n",
        "    self.num_layers = num_layers\n",
        "    self.hidden_size = hidden_size\n",
        "\n",
        "    self.DC1 = nn.Sequential( \n",
        "        nn.Conv2d(self.in_channel,\n",
        "                  self.out_channel,\n",
        "                  3,\n",
        "                  1,\n",
        "                  1,\n",
        "                  bias=False),\n",
        "        nn.BatchNorm2d(self.out_channel),\n",
        "        nn.ReLU()\n",
        "        )      \n",
        "        \n",
        "    self.DC2 = nn.Sequential( \n",
        "        nn.Conv2d(self.in_channel,\n",
        "                  self.out_channel,\n",
        "                  5,\n",
        "                  1,\n",
        "                  2,\n",
        "                  bias=False),\n",
        "        nn.BatchNorm2d(self.out_channel),\n",
        "        nn.ReLU()\n",
        "        )  \n",
        "\n",
        "\n",
        "    self.DC3 = nn.Sequential( \n",
        "        nn.Conv2d(self.in_channel,\n",
        "                  self.out_channel,\n",
        "                  7,\n",
        "                  1,\n",
        "                  3,\n",
        "                  bias=False),\n",
        "        nn.BatchNorm2d(self.out_channel),\n",
        "        nn.ReLU()\n",
        "        )  \n",
        "    self.rnn = nn.GRU(30, self.hidden_size, self.num_layers, batch_first=True)  #### (First arg) Needs Modification \n",
        "\n",
        "\n",
        "  def forward(self, x):\n",
        "    x = torch.cat([self.DC1(x),self.DC2(x), self.DC3(x)], axis = 1)\n",
        "    print(x.shape)\n",
        "    x = x.reshape((x.shape[0], x.shape[2]*x.shape[3], -1))\n",
        "    print(x.shape)\n",
        "    h0 = torch.zeros(self.num_layers, x.size(0), self.hidden_size)\n",
        "    print(h0.shape)\n",
        "    x, _ = self.rnn(x, h0)\n",
        "    return(x)"
      ],
      "metadata": {
        "id": "I8mvEFsO7RYz"
      },
      "execution_count": 92,
      "outputs": []
    },
    {
      "cell_type": "code",
      "source": [
        "f = First(1,10,50,10,2)"
      ],
      "metadata": {
        "id": "QoXFVDaRAgy5"
      },
      "execution_count": 93,
      "outputs": []
    },
    {
      "cell_type": "code",
      "source": [
        "b = torch.rand(10,1,28,28)"
      ],
      "metadata": {
        "id": "4N89LKOOsiIm"
      },
      "execution_count": 94,
      "outputs": []
    },
    {
      "cell_type": "code",
      "source": [
        "b.shape"
      ],
      "metadata": {
        "colab": {
          "base_uri": "https://localhost:8080/"
        },
        "id": "SSzlgeEviqcu",
        "outputId": "aaebb7f9-145e-4c63-c1f2-09d5265bc97a"
      },
      "execution_count": 95,
      "outputs": [
        {
          "output_type": "execute_result",
          "data": {
            "text/plain": [
              "torch.Size([10, 1, 28, 28])"
            ]
          },
          "metadata": {},
          "execution_count": 95
        }
      ]
    },
    {
      "cell_type": "code",
      "source": [
        "print(f(b).shape)"
      ],
      "metadata": {
        "colab": {
          "base_uri": "https://localhost:8080/"
        },
        "id": "bN7xiK-RA7nY",
        "outputId": "aa22882e-47c7-4220-e4e7-72ba065faa43"
      },
      "execution_count": 96,
      "outputs": [
        {
          "output_type": "stream",
          "name": "stdout",
          "text": [
            "torch.Size([10, 30, 28, 28])\n",
            "torch.Size([10, 784, 30])\n",
            "torch.Size([10, 10, 50])\n",
            "torch.Size([10, 784, 50])\n"
          ]
        }
      ]
    },
    {
      "cell_type": "code",
      "source": [
        ""
      ],
      "metadata": {
        "id": "JUMOcYmVisUj"
      },
      "execution_count": null,
      "outputs": []
    }
  ]
}