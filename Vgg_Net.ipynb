{
  "nbformat": 4,
  "nbformat_minor": 0,
  "metadata": {
    "colab": {
      "name": "Vgg Net.ipynb",
      "provenance": [],
      "authorship_tag": "ABX9TyOIqyfmHvVsVE2CBKkg2jXB",
      "include_colab_link": true
    },
    "kernelspec": {
      "name": "python3",
      "display_name": "Python 3"
    },
    "language_info": {
      "name": "python"
    }
  },
  "cells": [
    {
      "cell_type": "markdown",
      "metadata": {
        "id": "view-in-github",
        "colab_type": "text"
      },
      "source": [
        "<a href=\"https://colab.research.google.com/github/mehdihosseinimoghadam/Pytorch-Tutorial/blob/main/Vgg_Net.ipynb\" target=\"_parent\"><img src=\"https://colab.research.google.com/assets/colab-badge.svg\" alt=\"Open In Colab\"/></a>"
      ]
    },
    {
      "cell_type": "markdown",
      "source": [
        "![picture](https://drive.google.com/uc?export=view&id=1oO-xaJCBpnYZvYuGUSosXNlm7B0GAMVg)\n",
        "\n",
        "and\n",
        "\n",
        "\n",
        "![picture](https://drive.google.com/uc?export=view&id=1uKY-JT7-OHZX_2rvS2sIFDjpham8yYSQ)\n",
        "\n",
        "and\n",
        "\n",
        "![picture](https://drive.google.com/uc?export=view&id=1idb63WLyzJ-Rc2V4kJ8goLr6Ohd3UbT0)"
      ],
      "metadata": {
        "id": "LFyK2PsbVCyk"
      }
    },
    {
      "cell_type": "code",
      "source": [
        "import torch\n",
        "from torch import nn\n",
        "import torch.nn.functional as F"
      ],
      "metadata": {
        "id": "Am0xfs4JVOR7"
      },
      "execution_count": 1,
      "outputs": []
    },
    {
      "cell_type": "code",
      "source": [
        "from torch.nn.modules.activation import ReLU\n",
        "from torch.nn.modules.batchnorm import BatchNorm2d\n",
        "vgg16 = [64,\n",
        "         64,\n",
        "         \"M\",\n",
        "         128,\n",
        "         128,\n",
        "         \"M\",\n",
        "         256,\n",
        "         256,\n",
        "         256,\n",
        "         \"M\",\n",
        "         512,\n",
        "         512,\n",
        "         512,\n",
        "         \"M\",\n",
        "         512,\n",
        "         512,\n",
        "         512,\n",
        "         \"M\"]\n",
        "\n",
        "class VGG(nn.Module):\n",
        "  def __init__(self, in_channels, num_classes, vgg_type):\n",
        "    super(VGG, self).__init__()\n",
        "    self.in_channels = in_channels\n",
        "    self.vgg_type = vgg_type\n",
        "    self.convs = self.create_convs(self.vgg_type ) ##############\n",
        "    self.fcs = nn.Sequential(\n",
        "        nn.Linear(512*7*7, 4096),\n",
        "        nn.ReLU(),\n",
        "        nn.Dropout(),\n",
        "        nn.Linear(4096, 4096),\n",
        "        nn.ReLU(),\n",
        "        nn.Dropout(),\n",
        "        nn.Linear(4096, num_classes)\n",
        "    )         \n",
        "\n",
        "\n",
        "  def forward(self, x):\n",
        "    x = self.convs(x)\n",
        "    x = x.reshape(x.shape[0], -1)\n",
        "    x = self.fcs(x)\n",
        "    return(x)\n",
        "\n",
        "\n",
        "\n",
        "\n",
        "  def create_convs(self, architecture):\n",
        "    layers = []\n",
        "    in_channels = self.in_channels\n",
        "    for i in architecture:\n",
        "      if type(i)==int:\n",
        "        out_channels = i\n",
        "        layers += [nn.Conv2d(in_channels,\n",
        "                            out_channels,\n",
        "                            kernel_size=(3,3),\n",
        "                            stride=(1,1),\n",
        "                            padding=(1,1)\n",
        "                            ) ,\n",
        "                   nn.BatchNorm2d(i),\n",
        "                   nn.ReLU(),]\n",
        "\n",
        "        in_channels = i\n",
        "      elif i==\"M\":\n",
        "        layers += [\n",
        "                   nn.MaxPool2d(kernel_size=(2,2),stride=(2,2))\n",
        "        ]\n",
        "    return nn.Sequential(*layers)   \n",
        "\n",
        "\n",
        "if __name__ == \"__main__\":\n",
        "  device = torch.device(\"cuda\" if torch.cuda.is_available() else \"cpu\")\n",
        "  model = VGG(in_channels=3, num_classes=1000,vgg_type=vgg16).to(device)\n",
        "  print(model)    \n",
        "  x = torch.randn(3, 3, 224, 224).to(device)\n",
        "  print(model(x).shape)\n"
      ],
      "metadata": {
        "colab": {
          "base_uri": "https://localhost:8080/"
        },
        "id": "ZUE3QymeXjbP",
        "outputId": "fba6fc9b-c1dd-4943-b8e2-bdf52a61007c"
      },
      "execution_count": 10,
      "outputs": [
        {
          "output_type": "stream",
          "name": "stdout",
          "text": [
            "VGG(\n",
            "  (convs): Sequential(\n",
            "    (0): Conv2d(3, 64, kernel_size=(3, 3), stride=(1, 1), padding=(1, 1))\n",
            "    (1): BatchNorm2d(64, eps=1e-05, momentum=0.1, affine=True, track_running_stats=True)\n",
            "    (2): ReLU()\n",
            "    (3): Conv2d(64, 64, kernel_size=(3, 3), stride=(1, 1), padding=(1, 1))\n",
            "    (4): BatchNorm2d(64, eps=1e-05, momentum=0.1, affine=True, track_running_stats=True)\n",
            "    (5): ReLU()\n",
            "    (6): MaxPool2d(kernel_size=(2, 2), stride=(2, 2), padding=0, dilation=1, ceil_mode=False)\n",
            "    (7): Conv2d(64, 128, kernel_size=(3, 3), stride=(1, 1), padding=(1, 1))\n",
            "    (8): BatchNorm2d(128, eps=1e-05, momentum=0.1, affine=True, track_running_stats=True)\n",
            "    (9): ReLU()\n",
            "    (10): Conv2d(128, 128, kernel_size=(3, 3), stride=(1, 1), padding=(1, 1))\n",
            "    (11): BatchNorm2d(128, eps=1e-05, momentum=0.1, affine=True, track_running_stats=True)\n",
            "    (12): ReLU()\n",
            "    (13): MaxPool2d(kernel_size=(2, 2), stride=(2, 2), padding=0, dilation=1, ceil_mode=False)\n",
            "    (14): Conv2d(128, 256, kernel_size=(3, 3), stride=(1, 1), padding=(1, 1))\n",
            "    (15): BatchNorm2d(256, eps=1e-05, momentum=0.1, affine=True, track_running_stats=True)\n",
            "    (16): ReLU()\n",
            "    (17): Conv2d(256, 256, kernel_size=(3, 3), stride=(1, 1), padding=(1, 1))\n",
            "    (18): BatchNorm2d(256, eps=1e-05, momentum=0.1, affine=True, track_running_stats=True)\n",
            "    (19): ReLU()\n",
            "    (20): Conv2d(256, 256, kernel_size=(3, 3), stride=(1, 1), padding=(1, 1))\n",
            "    (21): BatchNorm2d(256, eps=1e-05, momentum=0.1, affine=True, track_running_stats=True)\n",
            "    (22): ReLU()\n",
            "    (23): MaxPool2d(kernel_size=(2, 2), stride=(2, 2), padding=0, dilation=1, ceil_mode=False)\n",
            "    (24): Conv2d(256, 512, kernel_size=(3, 3), stride=(1, 1), padding=(1, 1))\n",
            "    (25): BatchNorm2d(512, eps=1e-05, momentum=0.1, affine=True, track_running_stats=True)\n",
            "    (26): ReLU()\n",
            "    (27): Conv2d(512, 512, kernel_size=(3, 3), stride=(1, 1), padding=(1, 1))\n",
            "    (28): BatchNorm2d(512, eps=1e-05, momentum=0.1, affine=True, track_running_stats=True)\n",
            "    (29): ReLU()\n",
            "    (30): Conv2d(512, 512, kernel_size=(3, 3), stride=(1, 1), padding=(1, 1))\n",
            "    (31): BatchNorm2d(512, eps=1e-05, momentum=0.1, affine=True, track_running_stats=True)\n",
            "    (32): ReLU()\n",
            "    (33): MaxPool2d(kernel_size=(2, 2), stride=(2, 2), padding=0, dilation=1, ceil_mode=False)\n",
            "    (34): Conv2d(512, 512, kernel_size=(3, 3), stride=(1, 1), padding=(1, 1))\n",
            "    (35): BatchNorm2d(512, eps=1e-05, momentum=0.1, affine=True, track_running_stats=True)\n",
            "    (36): ReLU()\n",
            "    (37): Conv2d(512, 512, kernel_size=(3, 3), stride=(1, 1), padding=(1, 1))\n",
            "    (38): BatchNorm2d(512, eps=1e-05, momentum=0.1, affine=True, track_running_stats=True)\n",
            "    (39): ReLU()\n",
            "    (40): Conv2d(512, 512, kernel_size=(3, 3), stride=(1, 1), padding=(1, 1))\n",
            "    (41): BatchNorm2d(512, eps=1e-05, momentum=0.1, affine=True, track_running_stats=True)\n",
            "    (42): ReLU()\n",
            "    (43): MaxPool2d(kernel_size=(2, 2), stride=(2, 2), padding=0, dilation=1, ceil_mode=False)\n",
            "  )\n",
            "  (fcs): Sequential(\n",
            "    (0): Linear(in_features=25088, out_features=4096, bias=True)\n",
            "    (1): ReLU()\n",
            "    (2): Dropout(p=0.5, inplace=False)\n",
            "    (3): Linear(in_features=4096, out_features=4096, bias=True)\n",
            "    (4): ReLU()\n",
            "    (5): Dropout(p=0.5, inplace=False)\n",
            "    (6): Linear(in_features=4096, out_features=1000, bias=True)\n",
            "  )\n",
            ")\n",
            "torch.Size([3, 1000])\n"
          ]
        }
      ]
    },
    {
      "cell_type": "code",
      "source": [
        ""
      ],
      "metadata": {
        "id": "JjKc415iihKp"
      },
      "execution_count": null,
      "outputs": []
    }
  ]
}