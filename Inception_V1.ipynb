{
  "nbformat": 4,
  "nbformat_minor": 0,
  "metadata": {
    "colab": {
      "name": "Inception V1.ipynb",
      "provenance": [],
      "authorship_tag": "ABX9TyMGrGzoKwus00UNe83LvVOO",
      "include_colab_link": true
    },
    "kernelspec": {
      "name": "python3",
      "display_name": "Python 3"
    },
    "language_info": {
      "name": "python"
    }
  },
  "cells": [
    {
      "cell_type": "markdown",
      "metadata": {
        "id": "view-in-github",
        "colab_type": "text"
      },
      "source": [
        "<a href=\"https://colab.research.google.com/github/mehdihosseinimoghadam/Pytorch-Tutorial/blob/main/Inception_V1.ipynb\" target=\"_parent\"><img src=\"https://colab.research.google.com/assets/colab-badge.svg\" alt=\"Open In Colab\"/></a>"
      ]
    },
    {
      "cell_type": "markdown",
      "source": [
        "![picture](https://drive.google.com/uc?export=view&id=1PKqCBr4T-4H0_vzWD5zvc5bGAdWkJOVF)\n",
        "\n",
        "and\n",
        "\n",
        "\n",
        "![picture](https://drive.google.com/uc?export=view&id=1tzc2Thp8-OkQ_S4hzjFFxBAT38qtYJuG)\n",
        "\n"
      ],
      "metadata": {
        "id": "Ecnw5siZK97A"
      }
    },
    {
      "cell_type": "code",
      "execution_count": null,
      "metadata": {
        "id": "qmB_L0KjK68d"
      },
      "outputs": [],
      "source": [
        "https://drive.google.com/file/d//view?usp=sharing"
      ]
    }
  ]
}