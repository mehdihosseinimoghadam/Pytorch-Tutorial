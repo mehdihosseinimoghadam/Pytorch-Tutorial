{
  "nbformat": 4,
  "nbformat_minor": 0,
  "metadata": {
    "colab": {
      "name": "Inception V1.ipynb",
      "provenance": [],
      "authorship_tag": "ABX9TyPLtar51e/rwkS9dgx8A6KG",
      "include_colab_link": true
    },
    "kernelspec": {
      "name": "python3",
      "display_name": "Python 3"
    },
    "language_info": {
      "name": "python"
    }
  },
  "cells": [
    {
      "cell_type": "markdown",
      "metadata": {
        "id": "view-in-github",
        "colab_type": "text"
      },
      "source": [
        "<a href=\"https://colab.research.google.com/github/mehdihosseinimoghadam/Pytorch-Tutorial/blob/main/Inception_V1.ipynb\" target=\"_parent\"><img src=\"https://colab.research.google.com/assets/colab-badge.svg\" alt=\"Open In Colab\"/></a>"
      ]
    },
    {
      "cell_type": "markdown",
      "source": [
        "![picture](https://drive.google.com/uc?export=view&id=1PKqCBr4T-4H0_vzWD5zvc5bGAdWkJOVF)\n",
        "\n",
        "and\n",
        "\n",
        "\n",
        "![picture](https://drive.google.com/uc?export=view&id=1tzc2Thp8-OkQ_S4hzjFFxBAT38qtYJuG)\n",
        "\n"
      ],
      "metadata": {
        "id": "Ecnw5siZK97A"
      }
    },
    {
      "cell_type": "code",
      "execution_count": null,
      "metadata": {
        "id": "qmB_L0KjK68d"
      },
      "outputs": [],
      "source": [
        "import torch\n",
        "from torch import nn"
      ]
    },
    {
      "cell_type": "code",
      "source": [
        "class conv_block(nn.Module):\n",
        "  def __init__(self, in_channels, out_channels, **kwargs):\n",
        "    super(self, conv_block).__init__()\n",
        "    self.relu = nn.ReLU()\n",
        "    self.conv = nn.Conv2d(in_channels, out_channels, **kwargs)\n",
        "    self.batchnorm = nn.BatchNorm2d(out_channels)\n",
        "\n",
        "  def forward(self, x):\n",
        "    return self.relu(self.batchnorm(self.conv(x)))  "
      ],
      "metadata": {
        "id": "_oEki0P2d3PA"
      },
      "execution_count": null,
      "outputs": []
    },
    {
      "cell_type": "code",
      "source": [
        "class Inception_block(nn.Module):\n",
        "  def __init__(self,\n",
        "               in_channels,\n",
        "               out_1x1,\n",
        "               red_3x3,\n",
        "               out_3x3,\n",
        "               red_5x5,\n",
        "               out_5x5,\n",
        "               out_maxpool_1x1):\n",
        "    super(self,Inception_block).__init__()\n",
        "\n",
        "    self.b1 = nn.Sequential(\n",
        "        conv_block(in_channels, out_1x1, kernel_size=(1,1))\n",
        "    )\n",
        "    self.b2 = nn.Sequential(\n",
        "        conv_block(in_channels, red_3x3, kernel_size=(1,1)),\n",
        "        conv_block(red_3x3, out_3x3,kernel_size=(3,3), padding=(1,1))\n",
        "    )\n",
        "    \n",
        "    self.b3 = nn.Sequential(\n",
        "    conv_block(in_channels, red_5x5, kernel_size=(1,1)),\n",
        "    conv_block(red_5x5, out_5x5,kernel_size=(5,5), padding=(2,2))\n",
        "    )\n",
        "\n",
        "    self.b4 = nn.Sequential(\n",
        "    nn.MaxPool2d(kernel_size(3,3), stride=(1,1), padding=(1,1)),\n",
        "    conv_block(in_channels, out_maxpool_1x1,kernel_size=(1,1))\n",
        "    )\n",
        "\n",
        "  def forward(self, x):\n",
        "    return torch.cat(\n",
        "        [self.b1(x), self.b2(x), self.b3(x), self.b4(x)],1\n",
        "        )  "
      ],
      "metadata": {
        "id": "AmdWA--Tg8tE"
      },
      "execution_count": null,
      "outputs": []
    }
  ]
}