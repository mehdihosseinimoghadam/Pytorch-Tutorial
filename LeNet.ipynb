{
  "nbformat": 4,
  "nbformat_minor": 0,
  "metadata": {
    "colab": {
      "name": "LeNet.ipynb",
      "provenance": [],
      "authorship_tag": "ABX9TyO+f7GQLVCZBuxXMxt9pW+y",
      "include_colab_link": true
    },
    "kernelspec": {
      "name": "python3",
      "display_name": "Python 3"
    },
    "language_info": {
      "name": "python"
    }
  },
  "cells": [
    {
      "cell_type": "markdown",
      "metadata": {
        "id": "view-in-github",
        "colab_type": "text"
      },
      "source": [
        "<a href=\"https://colab.research.google.com/github/mehdihosseinimoghadam/Pytorch-Tutorial/blob/main/LeNet.ipynb\" target=\"_parent\"><img src=\"https://colab.research.google.com/assets/colab-badge.svg\" alt=\"Open In Colab\"/></a>"
      ]
    },
    {
      "cell_type": "markdown",
      "source": [
        "## LeNet5 Architecture\n",
        "\n",
        "###  Input -> $32 \\times 32 \\times 1$\n",
        "\n",
        "### Conv2d -> $ k:(5\\times 5), s:(1\\times 1), p:(0\\times 0)$ \n",
        "              out -> (32-5+1) * (32-5+1) * 6 = (28*28*6)\n",
        "\n",
        "### AvgPool2d -> $k:(2\\times 2), s:(2\\times 2)$\n",
        "              out -> (14*14*6)\n",
        "\n",
        "### Conv2d \n",
        "              out ->  (10*10*16)\n",
        "\n",
        "### AvgPool2d \n",
        "              out -> (5*5*16)\n",
        "\n",
        "### Conv2d \n",
        "              out ->  (120)              \n",
        "\n",
        "### FC \n",
        "              out ->  (84)  \n",
        "\n",
        "### FC\n",
        "              out ->  (10)  \n",
        "\n",
        "\n",
        "\n",
        "![picture](https://drive.google.com/uc?export=view&id=1JQppLzAQoqJAbyFyWe0jUs0KeXobXTIO)\n",
        "\n",
        "![picture](https://drive.google.com/uc?export=view&id=1CBO1TB7qfjQGiED8mDrLdsSz_RUe5iEl)\n"
      ],
      "metadata": {
        "id": "uAGZ5NuSgEWg"
      }
    },
    {
      "cell_type": "code",
      "execution_count": 1,
      "metadata": {
        "id": "BooAFpDdPHGF"
      },
      "outputs": [],
      "source": [
        "import torch\n",
        "from torch import nn"
      ]
    },
    {
      "cell_type": "code",
      "source": [
        "class LeNet(nn.Module):\n",
        "  def __init__(self,input_channels, num_classes):\n",
        "    self.in_channels = input_channels\n",
        "    self.num_classes = num_classes\n",
        "    self.conv1 = nn.Conv2d(\n",
        "        in_channels=in_channels,\n",
        "        out_channels=32,\n",
        "        kernel_size=(5,5),\n",
        "        stride=(1,1),\n",
        "        padding=None\n",
        "    )\n",
        "    self.pool = nn.AvgPool2d(\n",
        "        kernel_size=(2,2),\n",
        "        stride=(2,2),\n",
        "        padding=(1,1)\n",
        "        )\n",
        "    self.conv2 = nn.Conv2d(\n",
        "        in_channels=32,\n",
        "        out_channels=120,\n",
        "        kernel_size=(5,5),\n",
        "        stride=(1,1),\n",
        "        padding=None\n",
        "    )\n",
        "    self.fc1 = nn.Linear(\n",
        "        120**,84\n",
        "    )                \n",
        "    self.fc2 = nn.Linear(\n",
        "        84,num_classes\n",
        "    )\n",
        "\n",
        "  def forward(self, x):\n",
        "      "
      ],
      "metadata": {
        "id": "6mUdhsGDP2Xw"
      },
      "execution_count": null,
      "outputs": []
    }
  ]
}